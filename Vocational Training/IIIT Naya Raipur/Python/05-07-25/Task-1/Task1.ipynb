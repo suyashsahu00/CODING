{
 "cells": [
  {
   "cell_type": "markdown",
   "id": "4c0b68d4",
   "metadata": {},
   "source": [
    "#Load a dataset into a pandas DataFrame and display the first few rows."
   ]
  },
  {
   "cell_type": "code",
   "execution_count": 2,
   "id": "32c5efe0",
   "metadata": {},
   "outputs": [
    {
     "name": "stdout",
     "output_type": "stream",
     "text": [
      "   Rank      Country  Cost of Living Index  Rent Index  \\\n",
      "0     1  Switzerland                 101.1        46.5   \n",
      "1     2      Bahamas                  85.0        36.7   \n",
      "2     3      Iceland                  83.0        39.2   \n",
      "3     4    Singapore                  76.7        67.2   \n",
      "4     5     Barbados                  76.6        19.0   \n",
      "\n",
      "   Cost of Living Plus Rent Index  Groceries Index  Restaurant Price Index  \\\n",
      "0                            74.9            109.1                    97.0   \n",
      "1                            61.8             81.6                    83.3   \n",
      "2                            62.0             88.4                    86.8   \n",
      "3                            72.1             74.6                    50.4   \n",
      "4                            48.9             80.8                    69.4   \n",
      "\n",
      "   Local Purchasing Power Index  \n",
      "0                         158.7  \n",
      "1                          54.6  \n",
      "2                         120.3  \n",
      "3                         111.1  \n",
      "4                          43.5  \n"
     ]
    }
   ],
   "source": [
    "import pandas as pd\n",
    "\n",
    "df = pd.read_csv('Cost_of_Living_Index_by_Country_2024.csv')\n",
    "print(df.head())"
   ]
  },
  {
   "cell_type": "markdown",
   "id": "0dd2f54a",
   "metadata": {},
   "source": [
    "#Filter the DataFrame to display only the rows that meet a certain condition\n",
    "(e.g., all rows where a specific column's value exceeds a threshold).\n"
   ]
  },
  {
   "cell_type": "code",
   "execution_count": 3,
   "id": "06121f54",
   "metadata": {},
   "outputs": [
    {
     "name": "stdout",
     "output_type": "stream",
     "text": [
      "    Rank               Country  Cost of Living Index  Rent Index  \\\n",
      "0      1           Switzerland                 101.1        46.5   \n",
      "3      4             Singapore                  76.7        67.2   \n",
      "7      8     Hong Kong (China)                  70.8        59.4   \n",
      "8      9         United States                  70.4        41.7   \n",
      "13    14               Ireland                  64.4        42.3   \n",
      "19    20            Luxembourg                  62.4        40.5   \n",
      "26    27  United Arab Emirates                  55.8        41.3   \n",
      "\n",
      "    Cost of Living Plus Rent Index  Groceries Index  Restaurant Price Index  \\\n",
      "0                             74.9            109.1                    97.0   \n",
      "3                             72.1             74.6                    50.4   \n",
      "7                             65.3             84.6                    46.2   \n",
      "8                             56.6             75.0                    67.2   \n",
      "13                            53.8             59.3                    65.3   \n",
      "19                            51.9             64.1                    68.7   \n",
      "26                            48.9             45.3                    49.2   \n",
      "\n",
      "    Local Purchasing Power Index  \n",
      "0                          158.7  \n",
      "3                          111.1  \n",
      "7                          109.3  \n",
      "8                          142.3  \n",
      "13                         101.1  \n",
      "19                         182.5  \n",
      "26                         127.9  \n"
     ]
    }
   ],
   "source": [
    "filtered_df = df[df['Rent Index'] > 40]\n",
    "print(filtered_df)"
   ]
  },
  {
   "cell_type": "markdown",
   "id": "1429eab0",
   "metadata": {},
   "source": [
    "#Sort the DataFrame based on a particular column in ascending or descending\n",
    "order.\n"
   ]
  },
  {
   "cell_type": "code",
   "execution_count": 4,
   "id": "74c94365",
   "metadata": {},
   "outputs": [
    {
     "name": "stdout",
     "output_type": "stream",
     "text": [
      "Top 10 by Cost of Living Index (descending):\n",
      "   Rank            Country  Cost of Living Index  Rent Index  \\\n",
      "0     1        Switzerland                 101.1        46.5   \n",
      "1     2            Bahamas                  85.0        36.7   \n",
      "2     3            Iceland                  83.0        39.2   \n",
      "3     4          Singapore                  76.7        67.2   \n",
      "4     5           Barbados                  76.6        19.0   \n",
      "5     6             Norway                  76.0        26.2   \n",
      "6     7            Denmark                  72.3        26.4   \n",
      "7     8  Hong Kong (China)                  70.8        59.4   \n",
      "8     9      United States                  70.4        41.7   \n",
      "9    10          Australia                  70.2        33.4   \n",
      "\n",
      "   Cost of Living Plus Rent Index  Groceries Index  Restaurant Price Index  \\\n",
      "0                            74.9            109.1                    97.0   \n",
      "1                            61.8             81.6                    83.3   \n",
      "2                            62.0             88.4                    86.8   \n",
      "3                            72.1             74.6                    50.4   \n",
      "4                            48.9             80.8                    69.4   \n",
      "5                            52.1             79.0                    73.5   \n",
      "6                            50.2             64.8                    81.3   \n",
      "7                            65.3             84.6                    46.2   \n",
      "8                            56.6             75.0                    67.2   \n",
      "9                            52.5             77.3                    62.5   \n",
      "\n",
      "   Local Purchasing Power Index  \n",
      "0                         158.7  \n",
      "1                          54.6  \n",
      "2                         120.3  \n",
      "3                         111.1  \n",
      "4                          43.5  \n",
      "5                         114.7  \n",
      "6                         127.2  \n",
      "7                         109.3  \n",
      "8                         142.3  \n",
      "9                         127.4  \n",
      "\n",
      "Bottom 10 by Local Purchasing Power Index (ascending):\n",
      "     Rank     Country  Cost of Living Index  Rent Index  \\\n",
      "42     43        Cuba                  46.7        11.8   \n",
      "114   115       Syria                  24.0         3.7   \n",
      "71     72    Cameroon                  37.3        16.9   \n",
      "85     86     Nigeria                  31.4        22.1   \n",
      "64     65   Venezuela                  38.3         5.8   \n",
      "113   114  Madagascar                  24.5         7.8   \n",
      "76     77   Sri Lanka                  34.6         5.6   \n",
      "99    100      Uganda                  29.1         7.7   \n",
      "89     90       Ghana                  30.9        10.2   \n",
      "118   119       Egypt                  21.0         3.7   \n",
      "\n",
      "     Cost of Living Plus Rent Index  Groceries Index  Restaurant Price Index  \\\n",
      "42                             29.9             43.0                    26.0   \n",
      "114                            14.2             24.5                    15.3   \n",
      "71                             27.5             34.6                    35.3   \n",
      "85                             27.0             37.5                    20.6   \n",
      "64                             22.7             39.5                    37.7   \n",
      "113                            16.5             24.1                    14.3   \n",
      "76                             20.7             49.3                    18.5   \n",
      "99                             18.8             29.3                    21.6   \n",
      "89                             21.0             33.9                    26.9   \n",
      "118                            12.7             21.2                    16.2   \n",
      "\n",
      "     Local Purchasing Power Index  \n",
      "42                            2.3  \n",
      "114                           5.5  \n",
      "71                           10.5  \n",
      "85                           11.0  \n",
      "64                           14.7  \n",
      "113                          15.6  \n",
      "76                           17.5  \n",
      "99                           17.8  \n",
      "89                           18.4  \n",
      "118                          20.0  \n"
     ]
    }
   ],
   "source": [
    "# Sort by 'Cost of Living Index' in descending order (highest first)\n",
    "sorted_desc = df.sort_values(by='Cost of Living Index', ascending=False)\n",
    "\n",
    "# Sort by 'Local Purchasing Power Index' in ascending order (lowest first)\n",
    "sorted_asc = df.sort_values(by='Local Purchasing Power Index', ascending=True)\n",
    "\n",
    "# Display top 10 for demonstration\n",
    "print(\"Top 10 by Cost of Living Index (descending):\")\n",
    "print(sorted_desc.head(10))\n",
    "\n",
    "print(\"\\nBottom 10 by Local Purchasing Power Index (ascending):\")\n",
    "print(sorted_asc.head(10))"
   ]
  },
  {
   "cell_type": "markdown",
   "id": "1bf451c6",
   "metadata": {},
   "source": [
    "#Add a new calculated column to the DataFrame based on existing columns\n",
    "(e.g., create a new column that is the product of two other columns)."
   ]
  },
  {
   "cell_type": "code",
   "execution_count": 5,
   "id": "21188d8e",
   "metadata": {},
   "outputs": [
    {
     "name": "stdout",
     "output_type": "stream",
     "text": [
      "             Country  Cost of Living Index  Rent Index  AffordabilityScore\n",
      "0        Switzerland                 101.1        46.5             4701.15\n",
      "1            Bahamas                  85.0        36.7             3119.50\n",
      "2            Iceland                  83.0        39.2             3253.60\n",
      "3          Singapore                  76.7        67.2             5154.24\n",
      "4           Barbados                  76.6        19.0             1455.40\n",
      "5             Norway                  76.0        26.2             1991.20\n",
      "6            Denmark                  72.3        26.4             1908.72\n",
      "7  Hong Kong (China)                  70.8        59.4             4205.52\n",
      "8      United States                  70.4        41.7             2935.68\n",
      "9          Australia                  70.2        33.4             2344.68\n"
     ]
    }
   ],
   "source": [
    "# Create a new calculated column: Cost-Rent Composite Score\n",
    "df['AffordabilityScore'] = df['Cost of Living Index'] * df['Rent Index']\n",
    "\n",
    "# Display the updated DataFrame\n",
    "print(df[['Country', 'Cost of Living Index', 'Rent Index', 'AffordabilityScore']].head(10))"
   ]
  },
  {
   "cell_type": "markdown",
   "id": "73b6a8e3",
   "metadata": {},
   "source": [
    "#Load two related datasets into separate DataFrames."
   ]
  },
  {
   "cell_type": "code",
   "execution_count": 6,
   "id": "c681c6c9",
   "metadata": {},
   "outputs": [
    {
     "name": "stdout",
     "output_type": "stream",
     "text": [
      "Cost of Living Data:\n",
      "   Rank      Country  Cost of Living Index  Rent Index  \\\n",
      "0     1  Switzerland                 101.1        46.5   \n",
      "1     2      Bahamas                  85.0        36.7   \n",
      "2     3      Iceland                  83.0        39.2   \n",
      "3     4    Singapore                  76.7        67.2   \n",
      "4     5     Barbados                  76.6        19.0   \n",
      "\n",
      "   Cost of Living Plus Rent Index  Groceries Index  Restaurant Price Index  \\\n",
      "0                            74.9            109.1                    97.0   \n",
      "1                            61.8             81.6                    83.3   \n",
      "2                            62.0             88.4                    86.8   \n",
      "3                            72.1             74.6                    50.4   \n",
      "4                            48.9             80.8                    69.4   \n",
      "\n",
      "   Local Purchasing Power Index  \n",
      "0                         158.7  \n",
      "1                          54.6  \n",
      "2                         120.3  \n",
      "3                         111.1  \n",
      "4                          43.5  \n",
      "\n",
      "Local Purchasing Power Data:\n",
      "         Country  Local Purchasing Power Index\n",
      "0    Switzerland                         158.7\n",
      "1  United States                         142.3\n",
      "2     Luxembourg                         182.5\n",
      "3          India                          82.6\n",
      "4          Japan                         117.0\n"
     ]
    }
   ],
   "source": [
    "# Load the first dataset\n",
    "df_cost = pd.read_csv('Cost_of_Living_Index_by_Country_2024.csv')\n",
    "\n",
    "# Load the second related dataset\n",
    "df_power = pd.read_csv('Local_Purchasing_Power_by_Country.csv')\n",
    "\n",
    "# Display the first few rows of both DataFrames\n",
    "print(\"Cost of Living Data:\")\n",
    "print(df_cost.head())\n",
    "\n",
    "print(\"\\nLocal Purchasing Power Data:\")\n",
    "print(df_power.head())"
   ]
  },
  {
   "cell_type": "markdown",
   "id": "246e313c",
   "metadata": {},
   "source": [
    "#Perform an inner join on the two DataFrames based on a common key."
   ]
  },
  {
   "cell_type": "code",
   "execution_count": 7,
   "id": "4e89171e",
   "metadata": {},
   "outputs": [
    {
     "name": "stdout",
     "output_type": "stream",
     "text": [
      "   Rank        Country  Cost of Living Index  Rent Index  \\\n",
      "0     1    Switzerland                 101.1        46.5   \n",
      "1     4      Singapore                  76.7        67.2   \n",
      "2     9  United States                  70.4        41.7   \n",
      "3    10      Australia                  70.2        33.4   \n",
      "4    20     Luxembourg                  62.4        40.5   \n",
      "\n",
      "   Cost of Living Plus Rent Index  Groceries Index  Restaurant Price Index  \\\n",
      "0                            74.9            109.1                    97.0   \n",
      "1                            72.1             74.6                    50.4   \n",
      "2                            56.6             75.0                    67.2   \n",
      "3                            52.5             77.3                    62.5   \n",
      "4                            51.9             64.1                    68.7   \n",
      "\n",
      "   Local Purchasing Power Index_x  Local Purchasing Power Index_y  \n",
      "0                           158.7                           158.7  \n",
      "1                           111.1                           111.1  \n",
      "2                           142.3                           142.3  \n",
      "3                           127.4                           127.4  \n",
      "4                           182.5                           182.5  \n"
     ]
    }
   ],
   "source": [
    "# Load both datasets\n",
    "df_cost = pd.read_csv('Cost_of_Living_Index_by_Country_2024.csv')\n",
    "df_power = pd.read_csv('Local_Purchasing_Power_by_Country.csv')\n",
    "\n",
    "# Inner join on 'Country'\n",
    "df_merged = pd.merge(df_cost, df_power, on='Country', how='inner')\n",
    "\n",
    "# Display the result\n",
    "print(df_merged.head())"
   ]
  },
  {
   "cell_type": "markdown",
   "id": "01558925",
   "metadata": {},
   "source": [
    "#Perform a left join and explain how the result differs from the inner join."
   ]
  },
  {
   "cell_type": "code",
   "execution_count": 8,
   "id": "a4b887ef",
   "metadata": {},
   "outputs": [
    {
     "name": "stdout",
     "output_type": "stream",
     "text": [
      "   Rank      Country  Cost of Living Index  Rent Index  \\\n",
      "0     1  Switzerland                 101.1        46.5   \n",
      "1     2      Bahamas                  85.0        36.7   \n",
      "2     3      Iceland                  83.0        39.2   \n",
      "3     4    Singapore                  76.7        67.2   \n",
      "4     5     Barbados                  76.6        19.0   \n",
      "\n",
      "   Cost of Living Plus Rent Index  Groceries Index  Restaurant Price Index  \\\n",
      "0                            74.9            109.1                    97.0   \n",
      "1                            61.8             81.6                    83.3   \n",
      "2                            62.0             88.4                    86.8   \n",
      "3                            72.1             74.6                    50.4   \n",
      "4                            48.9             80.8                    69.4   \n",
      "\n",
      "   Local Purchasing Power Index_x  Local Purchasing Power Index_y  \n",
      "0                           158.7                           158.7  \n",
      "1                            54.6                             NaN  \n",
      "2                           120.3                             NaN  \n",
      "3                           111.1                           111.1  \n",
      "4                            43.5                             NaN  \n"
     ]
    }
   ],
   "source": [
    "# Load both datasets\n",
    "df_cost = pd.read_csv('Cost_of_Living_Index_by_Country_2024.csv')\n",
    "df_power = pd.read_csv('Local_Purchasing_Power_by_Country.csv')\n",
    "\n",
    "# Perform a left join\n",
    "df_left_joined = pd.merge(df_cost, df_power, on='Country', how='left')\n",
    "\n",
    "# Display the result\n",
    "print(df_left_joined.head())"
   ]
  },
  {
   "cell_type": "markdown",
   "id": "d42aa631",
   "metadata": {},
   "source": [
    "#Merge the two DataFrames using a concatenation operation and describe a\n",
    "scenario where this might be useful."
   ]
  },
  {
   "cell_type": "code",
   "execution_count": null,
   "id": "4e69b03b",
   "metadata": {},
   "outputs": [
    {
     "name": "stdout",
     "output_type": "stream",
     "text": [
      "   Rank      Country  Cost of Living Index  Rent Index  \\\n",
      "0     1  Switzerland                 101.1        46.5   \n",
      "1     2      Bahamas                  85.0        36.7   \n",
      "2     3      Iceland                  83.0        39.2   \n",
      "3     4    Singapore                  76.7        67.2   \n",
      "4     5     Barbados                  76.6        19.0   \n",
      "\n",
      "   Cost of Living Plus Rent Index  Groceries Index  Restaurant Price Index  \\\n",
      "0                            74.9            109.1                    97.0   \n",
      "1                            61.8             81.6                    83.3   \n",
      "2                            62.0             88.4                    86.8   \n",
      "3                            72.1             74.6                    50.4   \n",
      "4                            48.9             80.8                    69.4   \n",
      "\n",
      "   Local Purchasing Power Index  \n",
      "0                         158.7  \n",
      "1                          54.6  \n",
      "2                         120.3  \n",
      "3                         111.1  \n",
      "4                          43.5  \n"
     ]
    }
   ],
   "source": [
    "# Load two datasets with similar columns\n",
    "df1 = pd.read_csv('Cost_of_Living_Index_by_Country_2024.csv')\n",
    "df2 = pd.read_csv('Cost_of_Living_Index_by_Country_2023.csv')  \n",
    "\n",
    "# Concatenate vertically: add more rows\n",
    "df_combined = pd.concat([df1, df2], axis=0, ignore_index=True)\n",
    "\n",
    "# Show results\n",
    "print(df_combined.head())"
   ]
  },
  {
   "cell_type": "markdown",
   "id": "5d4369b8",
   "metadata": {},
   "source": [
    "#END\n"
   ]
  }
 ],
 "metadata": {
  "kernelspec": {
   "display_name": ".venv",
   "language": "python",
   "name": "python3"
  },
  "language_info": {
   "codemirror_mode": {
    "name": "ipython",
    "version": 3
   },
   "file_extension": ".py",
   "mimetype": "text/x-python",
   "name": "python",
   "nbconvert_exporter": "python",
   "pygments_lexer": "ipython3",
   "version": "3.13.5"
  }
 },
 "nbformat": 4,
 "nbformat_minor": 5
}
