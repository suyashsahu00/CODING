{
 "cells": [
  {
   "cell_type": "markdown",
   "id": "46659051",
   "metadata": {},
   "source": [
    "#Load a dataset into a pandas DataFrame. Identify and list all the quantitative\n",
    "(numerical) attributes."
   ]
  },
  {
   "cell_type": "code",
   "execution_count": 3,
   "id": "4e314df5",
   "metadata": {},
   "outputs": [
    {
     "name": "stdout",
     "output_type": "stream",
     "text": [
      "Quantitative Attributes: ['year']\n"
     ]
    }
   ],
   "source": [
    "import pandas as pd\n",
    "import numpy as np\n",
    "\n",
    "\n",
    "df = pd.read_csv(\"IEA Global EV Data 2024 new.csv\") \n",
    "\n",
    "df.head()\n",
    "\n",
    "quantitative_attrs = df.select_dtypes(include=[np.number]).columns.tolist()\n",
    "print(\"Quantitative Attributes:\", quantitative_attrs)"
   ]
  },
  {
   "cell_type": "markdown",
   "id": "c7a50451",
   "metadata": {},
   "source": [
    "#Classify these attributes into interval and ratio types. Provide a brief\n",
    "explanation for each classification."
   ]
  },
  {
   "cell_type": "code",
   "execution_count": null,
   "id": "ce7ce869",
   "metadata": {},
   "outputs": [
    {
     "name": "stdout",
     "output_type": "stream",
     "text": [
      "Interval vs. Ratio:\n",
      "year: Interval\n"
     ]
    }
   ],
   "source": [
    "interval_ratio = {}\n",
    "for col in quantitative_attrs:\n",
    "    if df[col].min() >= 0 and (\"sales\" in col.lower() or \"count\" in col.lower()):\n",
    "        interval_ratio[col] = \"Ratio\" \n",
    "    else:\n",
    "        interval_ratio[col] = \"Interval\"  \n",
    "\n",
    "print(\"Interval vs. Ratio:\")\n",
    "for k, v in interval_ratio.items():\n",
    "    print(f\"{k}: {v}\")"
   ]
  },
  {
   "cell_type": "markdown",
   "id": "fa65280d",
   "metadata": {},
   "source": [
    "#Further classify the quantitative attributes as discrete or continuous. Give\n",
    "examples from your dataset."
   ]
  },
  {
   "cell_type": "code",
   "execution_count": 5,
   "id": "e3d710fa",
   "metadata": {},
   "outputs": [
    {
     "name": "stdout",
     "output_type": "stream",
     "text": [
      "Discrete vs. Continuous:\n",
      "year: Discrete\n"
     ]
    }
   ],
   "source": [
    "discrete_continuous = {}\n",
    "for col in quantitative_attrs:\n",
    "    if df[col].nunique() < 50:\n",
    "        discrete_continuous[col] = \"Discrete\"\n",
    "    else:\n",
    "        discrete_continuous[col] = \"Continuous\"\n",
    "\n",
    "print(\"Discrete vs. Continuous:\")\n",
    "for k, v in discrete_continuous.items():\n",
    "    print(f\"{k}: {v}\")"
   ]
  },
  {
   "cell_type": "markdown",
   "id": "91f971d2",
   "metadata": {},
   "source": [
    "#Identify and list all the qualitative (categorical) attributes in your dataset."
   ]
  },
  {
   "cell_type": "code",
   "execution_count": 6,
   "id": "6609387f",
   "metadata": {},
   "outputs": [
    {
     "name": "stdout",
     "output_type": "stream",
     "text": [
      "Qualitative Attributes: ['region', 'category', 'parameter', 'mode', 'powertrain', 'unit', 'value', 'percentage']\n"
     ]
    }
   ],
   "source": [
    "qualitative_attrs = df.select_dtypes(include=[\"object\"]).columns.tolist()\n",
    "print(\"Qualitative Attributes:\", qualitative_attrs)"
   ]
  },
  {
   "cell_type": "markdown",
   "id": "18e21cdd",
   "metadata": {},
   "source": [
    "Classify these attributes into nominal, ordinal, and binary types. Provide a\n",
    "brief explanation for each classification with examples from your dataset."
   ]
  },
  {
   "cell_type": "code",
   "execution_count": 7,
   "id": "0a2bcc67",
   "metadata": {},
   "outputs": [
    {
     "name": "stdout",
     "output_type": "stream",
     "text": [
      "Nominal/Ordinal/Binary Classification:\n",
      "region: Nominal\n",
      "category: Ordinal\n",
      "parameter: Nominal\n",
      "mode: Nominal\n",
      "powertrain: Nominal\n",
      "unit: Nominal\n",
      "value: Nominal\n",
      "percentage: Nominal\n"
     ]
    }
   ],
   "source": [
    "qualitative_classification = {}\n",
    "for col in qualitative_attrs:\n",
    "    unique_vals = df[col].dropna().unique()\n",
    "    if len(unique_vals) == 2:\n",
    "        qualitative_classification[col] = \"Binary\"\n",
    "    elif \"category\" in col.lower() or \"type\" in col.lower() or \"rank\" in col.lower():\n",
    "        qualitative_classification[col] = \"Ordinal\"\n",
    "    else:\n",
    "        qualitative_classification[col] = \"Nominal\"\n",
    "\n",
    "print(\"Nominal/Ordinal/Binary Classification:\")\n",
    "for k, v in qualitative_classification.items():\n",
    "    print(f\"{k}: {v}\")"
   ]
  },
  {
   "cell_type": "markdown",
   "id": "71174914",
   "metadata": {},
   "source": [
    "#Convert one of the qualitative attributes into a factor variable using pandas or\n",
    "another suitable library."
   ]
  },
  {
   "cell_type": "code",
   "execution_count": 8,
   "id": "39ea0623",
   "metadata": {},
   "outputs": [],
   "source": [
    "if 'Vehicle Type' in qualitative_attrs:\n",
    "    df['Vehicle_Type_Factor'] = pd.Categorical(df['Vehicle Type'])\n",
    "    print(df['Vehicle_Type_Factor'].head())"
   ]
  },
  {
   "cell_type": "markdown",
   "id": "3b1f30e2",
   "metadata": {},
   "source": [
    "Explain what a factor variable is and why it might be useful in data analysis."
   ]
  },
  {
   "cell_type": "markdown",
   "id": "72d822c2",
   "metadata": {},
   "source": [
    "What is a Factor Variable?\n",
    "\n",
    "A factor variable is a categorical variable stored as a special data type (using pd.Categorical in pandas).\n",
    "It tells statistical models to treat it as qualitative, enables faster computations, and allows grouping operations.\n",
    "\n",
    "Why Use It?\n",
    "\n",
    " Optimizes memory usage.\n",
    " Enables meaningful groupby summaries.\n",
    " Makes visualizations and modeling more accurate."
   ]
  },
  {
   "cell_type": "markdown",
   "id": "35de939c",
   "metadata": {},
   "source": [
    "#END\n"
   ]
  }
 ],
 "metadata": {
  "kernelspec": {
   "display_name": ".venv",
   "language": "python",
   "name": "python3"
  },
  "language_info": {
   "codemirror_mode": {
    "name": "ipython",
    "version": 3
   },
   "file_extension": ".py",
   "mimetype": "text/x-python",
   "name": "python",
   "nbconvert_exporter": "python",
   "pygments_lexer": "ipython3",
   "version": "3.13.5"
  }
 },
 "nbformat": 4,
 "nbformat_minor": 5
}
