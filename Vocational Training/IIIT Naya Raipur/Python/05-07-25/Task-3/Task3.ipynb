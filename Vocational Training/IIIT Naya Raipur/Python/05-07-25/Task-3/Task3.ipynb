{
 "cells": [
  {
   "cell_type": "markdown",
   "id": "0a3020ed-73e9-44bc-9126-1ec1df8e2420",
   "metadata": {},
   "source": [
    "# Q1) Select a discrete numerical attribute and calculate basic descriptive statistics such as count, mean, median, mode, and range."
   ]
  },
  {
   "cell_type": "code",
   "execution_count": 67,
   "id": "f52b695c-7082-4c53-98c8-a45d51eb4ad2",
   "metadata": {},
   "outputs": [
    {
     "name": "stdout",
     "output_type": "stream",
     "text": [
      "       age     workclass  fnlwgt     education  educational-num  \\\n",
      "0       25       Private  226802          11th                7   \n",
      "1       38       Private   89814       HS-grad                9   \n",
      "2       28     Local-gov  336951    Assoc-acdm               12   \n",
      "3       44       Private  160323  Some-college               10   \n",
      "4       18             ?  103497  Some-college               10   \n",
      "...    ...           ...     ...           ...              ...   \n",
      "48837   27       Private  257302    Assoc-acdm               12   \n",
      "48838   40       Private  154374       HS-grad                9   \n",
      "48839   58       Private  151910       HS-grad                9   \n",
      "48840   22       Private  201490       HS-grad                9   \n",
      "48841   52  Self-emp-inc  287927       HS-grad                9   \n",
      "\n",
      "           marital-status         occupation relationship   race  gender  \\\n",
      "0           Never-married  Machine-op-inspct    Own-child  Black    Male   \n",
      "1      Married-civ-spouse    Farming-fishing      Husband  White    Male   \n",
      "2      Married-civ-spouse    Protective-serv      Husband  White    Male   \n",
      "3      Married-civ-spouse  Machine-op-inspct      Husband  Black    Male   \n",
      "4           Never-married                  ?    Own-child  White  Female   \n",
      "...                   ...                ...          ...    ...     ...   \n",
      "48837  Married-civ-spouse       Tech-support         Wife  White  Female   \n",
      "48838  Married-civ-spouse  Machine-op-inspct      Husband  White    Male   \n",
      "48839             Widowed       Adm-clerical    Unmarried  White  Female   \n",
      "48840       Never-married       Adm-clerical    Own-child  White    Male   \n",
      "48841  Married-civ-spouse    Exec-managerial         Wife  White  Female   \n",
      "\n",
      "       capital-gain  capital-loss  hours-per-week native-country income  \n",
      "0                 0             0              40  United-States  <=50K  \n",
      "1                 0             0              50  United-States  <=50K  \n",
      "2                 0             0              40  United-States   >50K  \n",
      "3              7688             0              40  United-States   >50K  \n",
      "4                 0             0              30  United-States  <=50K  \n",
      "...             ...           ...             ...            ...    ...  \n",
      "48837             0             0              38  United-States  <=50K  \n",
      "48838             0             0              40  United-States   >50K  \n",
      "48839             0             0              40  United-States  <=50K  \n",
      "48840             0             0              20  United-States  <=50K  \n",
      "48841         15024             0              40  United-States   >50K  \n",
      "\n",
      "[48842 rows x 15 columns]\n"
     ]
    }
   ],
   "source": [
    "\n",
    "import pandas as pd\n",
    "df = pd.read_csv('income_data.csv')\n",
    "print(df)"
   ]
  },
  {
   "cell_type": "code",
   "execution_count": 22,
   "id": "fbdd4662-33f0-4f36-82a8-d07461ad82e4",
   "metadata": {},
   "outputs": [
    {
     "name": "stdout",
     "output_type": "stream",
     "text": [
      "Mean : 38.64358543876172\n"
     ]
    }
   ],
   "source": [
    "#MEAN\n",
    "\n",
    "a = df['age'].mean()\n",
    "print(f\"Mean : {a}\")"
   ]
  },
  {
   "cell_type": "code",
   "execution_count": 24,
   "id": "c481ac3f-95fe-46aa-8abf-9c73946d881a",
   "metadata": {},
   "outputs": [
    {
     "name": "stdout",
     "output_type": "stream",
     "text": [
      "Median : 37.0\n"
     ]
    }
   ],
   "source": [
    "#MEDIAN\n",
    "\n",
    "b = df['age'].median()\n",
    "print(f\"Median : {b}\")"
   ]
  },
  {
   "cell_type": "code",
   "execution_count": 26,
   "id": "664318b4-8aae-4c47-9ee2-e46c27c353d2",
   "metadata": {},
   "outputs": [
    {
     "name": "stdout",
     "output_type": "stream",
     "text": [
      "Mode : 0    36\n",
      "Name: age, dtype: int64\n"
     ]
    }
   ],
   "source": [
    "#MODE\n",
    "\n",
    "c = df['age'].mode()\n",
    "print(f\"Mode : {c}\")"
   ]
  },
  {
   "cell_type": "code",
   "execution_count": 28,
   "id": "709a5b46-697c-4c27-ab4c-47c6d347b671",
   "metadata": {},
   "outputs": [
    {
     "name": "stdout",
     "output_type": "stream",
     "text": [
      "Range : 73\n"
     ]
    }
   ],
   "source": [
    "#RANGE\n",
    "\n",
    "d = df['age'].max() - df['age'].min()\n",
    "print(f\"Range : {d}\")"
   ]
  },
  {
   "cell_type": "code",
   "execution_count": 30,
   "id": "db39a691-0722-469b-b175-e3096bb07562",
   "metadata": {},
   "outputs": [
    {
     "name": "stdout",
     "output_type": "stream",
     "text": [
      "Count : 48842\n"
     ]
    }
   ],
   "source": [
    "#COUNT\n",
    "\n",
    "e = df['age'].count()\n",
    "print(f\"Count : {e}\")"
   ]
  },
  {
   "cell_type": "markdown",
   "id": "9e6c4c4d-8352-4835-9719-521f11faed11",
   "metadata": {},
   "source": [
    "# Q2) Select a continuous numerical attribute and calculate basic descriptive statistics such as mean, median, mode, range, variance, and standard deviation."
   ]
  },
  {
   "cell_type": "code",
   "execution_count": 34,
   "id": "88fab6b9-31fb-4765-b070-36b710f6e4ee",
   "metadata": {},
   "outputs": [
    {
     "name": "stdout",
     "output_type": "stream",
     "text": [
      "Mean : 40.422382375824085\n"
     ]
    }
   ],
   "source": [
    "#MEAN\n",
    "\n",
    "x = df['hours-per-week'].mean()\n",
    "print(f\"Mean : {x}\")"
   ]
  },
  {
   "cell_type": "code",
   "execution_count": 36,
   "id": "d2e51579-c67c-4a37-b842-82303d56df73",
   "metadata": {},
   "outputs": [
    {
     "name": "stdout",
     "output_type": "stream",
     "text": [
      "Median : 40.0\n"
     ]
    }
   ],
   "source": [
    "#MEDIAN\n",
    "\n",
    "y = df['hours-per-week'].median()\n",
    "print(f\"Median : {y}\")"
   ]
  },
  {
   "cell_type": "code",
   "execution_count": 38,
   "id": "9ff62619-6574-49e7-ab23-330d88ab9a1f",
   "metadata": {},
   "outputs": [
    {
     "name": "stdout",
     "output_type": "stream",
     "text": [
      "Mode : 0    40\n",
      "Name: hours-per-week, dtype: int64\n"
     ]
    }
   ],
   "source": [
    "#MODE\n",
    "\n",
    "z = df['hours-per-week'].mode()\n",
    "print(f\"Mode : {z}\")"
   ]
  },
  {
   "cell_type": "code",
   "execution_count": 40,
   "id": "3a0a496d-0f6c-4c68-9a25-82ff4f238757",
   "metadata": {},
   "outputs": [
    {
     "name": "stdout",
     "output_type": "stream",
     "text": [
      "Range : 98\n"
     ]
    }
   ],
   "source": [
    "#RANGE\n",
    "\n",
    "u = df['hours-per-week'].max() - df['hours-per-week'].min()\n",
    "print(f\"Range : {u}\")"
   ]
  },
  {
   "cell_type": "code",
   "execution_count": 44,
   "id": "ea750dc7-9f2e-46f2-bcb5-716e9bc92fd3",
   "metadata": {},
   "outputs": [
    {
     "name": "stdout",
     "output_type": "stream",
     "text": [
      "Variance : 153.547885006268\n"
     ]
    }
   ],
   "source": [
    "#VARIANCE\n",
    "\n",
    "v = df['hours-per-week'].var()\n",
    "print(f\"Variance : {v}\")"
   ]
  },
  {
   "cell_type": "code",
   "execution_count": 48,
   "id": "304871b2-5ea9-4e10-a248-c6aa860d518f",
   "metadata": {},
   "outputs": [
    {
     "name": "stdout",
     "output_type": "stream",
     "text": [
      "Standard Deviation : 12.39144402425593\n"
     ]
    }
   ],
   "source": [
    "#STANDARD DEVIATION\n",
    "\n",
    "w = df['hours-per-week'].std()\n",
    "print(f\"Standard Deviation : {w}\")"
   ]
  },
  {
   "cell_type": "markdown",
   "id": "6448d011-387c-4120-9c46-eb61510f0aba",
   "metadata": {},
   "source": [
    "# Q3) Select a nominal attribute and calculate the frequency distribution of its categories"
   ]
  },
  {
   "cell_type": "code",
   "execution_count": 53,
   "id": "703a68a6-1814-4263-b9bb-78b56c13c1c7",
   "metadata": {},
   "outputs": [
    {
     "name": "stdout",
     "output_type": "stream",
     "text": [
      "{'Private': 33906, 'Self-emp-not-inc': 3862, 'Local-gov': 3136, '?': 2799, 'State-gov': 1981, 'Self-emp-inc': 1695, 'Federal-gov': 1432, 'Without-pay': 21, 'Never-worked': 10}\n"
     ]
    }
   ],
   "source": [
    "# NOMINAL ATTRIBUTE\n",
    "\n",
    "value_counts = df['workclass'].value_counts().to_dict()\n",
    "print(value_counts)"
   ]
  },
  {
   "cell_type": "markdown",
   "id": "f5873932-99d6-4ebd-8c82-2b39b7ad0b96",
   "metadata": {},
   "source": [
    "# Q4) Select an ordinal attribute and calculate the frequency distribution of its categories."
   ]
  },
  {
   "cell_type": "code",
   "execution_count": 58,
   "id": "34cd210d-2427-4124-86df-0be3a5911203",
   "metadata": {},
   "outputs": [
    {
     "name": "stdout",
     "output_type": "stream",
     "text": [
      "{'HS-grad': 15784, 'Some-college': 10878, 'Bachelors': 8025, 'Masters': 2657, 'Assoc-voc': 2061, '11th': 1812, 'Assoc-acdm': 1601, '10th': 1389, '7th-8th': 955, 'Prof-school': 834, '9th': 756, '12th': 657, 'Doctorate': 594, '5th-6th': 509, '1st-4th': 247, 'Preschool': 83}\n"
     ]
    }
   ],
   "source": [
    "# ORDINAL ATTRIBUTE\n",
    "\n",
    "valuecount = df['education'].value_counts().to_dict()\n",
    "print(valuecount)"
   ]
  },
  {
   "cell_type": "markdown",
   "id": "625a8171-dcd5-4a77-a3f0-bdfe25893728",
   "metadata": {},
   "source": [
    "# Q5) Select a binary attribute and calculate the proportion of each category (e.g., the proportion of 0 vs. 1)"
   ]
  },
  {
   "cell_type": "code",
   "execution_count": 71,
   "id": "166fca21-c318-44d9-bcb2-d31ec55974fc",
   "metadata": {},
   "outputs": [
    {
     "name": "stdout",
     "output_type": "stream",
     "text": [
      "gender\n",
      "Male      0.668482\n",
      "Female    0.331518\n",
      "Name: proportion, dtype: float64\n"
     ]
    }
   ],
   "source": [
    "#BINARY ATTRIBUTE\n",
    "\n",
    "proportion = df['gender'].value_counts(normalize = True)\n",
    "print(proportion)"
   ]
  },
  {
   "cell_type": "code",
   "execution_count": null,
   "id": "3ffc02bb-a149-4b9f-afc3-2ecdd13cbc9a",
   "metadata": {},
   "outputs": [],
   "source": []
  }
 ],
 "metadata": {
  "kernelspec": {
   "display_name": ".venv",
   "language": "python",
   "name": "python3"
  },
  "language_info": {
   "codemirror_mode": {
    "name": "ipython",
    "version": 3
   },
   "file_extension": ".py",
   "mimetype": "text/x-python",
   "name": "python",
   "nbconvert_exporter": "python",
   "pygments_lexer": "ipython3",
   "version": "3.13.5"
  }
 },
 "nbformat": 4,
 "nbformat_minor": 5
}
