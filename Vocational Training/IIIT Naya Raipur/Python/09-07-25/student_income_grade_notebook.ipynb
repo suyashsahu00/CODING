{
 "cells": [
  {
   "cell_type": "markdown",
   "id": "14d99b00",
   "metadata": {},
   "source": [
    "# Student Family Income Regression and Multi-Class Grade Classification\n",
    "This notebook covers two tasks:\n",
    "1. Predicting a student's family income using regression.\n",
    "2. Predicting a student's grade (A, B, C, D) using multi-class classification."
   ]
  },
  {
   "cell_type": "markdown",
   "id": "d5a0260a",
   "metadata": {},
   "source": [
    "## Import Libraries"
   ]
  },
  {
   "cell_type": "code",
   "execution_count": 47,
   "id": "b1288f38",
   "metadata": {},
   "outputs": [],
   "source": [
    "import pandas as pd\n",
    "from sklearn.model_selection import train_test_split\n",
    "from sklearn.ensemble import RandomForestRegressor, GradientBoostingRegressor\n",
    "from sklearn.metrics import mean_squared_error, r2_score, classification_report, accuracy_score, confusion_matrix\n",
    "from sklearn.ensemble import RandomForestClassifier\n",
    "import matplotlib.pyplot as plt"
   ]
  },
  {
   "cell_type": "markdown",
   "id": "f7647539",
   "metadata": {},
   "source": [
    "## Load Data"
   ]
  },
  {
   "cell_type": "code",
   "execution_count": 48,
   "id": "cfb4fd8f",
   "metadata": {},
   "outputs": [
    {
     "data": {
      "text/html": [
       "<div>\n",
       "<style scoped>\n",
       "    .dataframe tbody tr th:only-of-type {\n",
       "        vertical-align: middle;\n",
       "    }\n",
       "\n",
       "    .dataframe tbody tr th {\n",
       "        vertical-align: top;\n",
       "    }\n",
       "\n",
       "    .dataframe thead th {\n",
       "        text-align: right;\n",
       "    }\n",
       "</style>\n",
       "<table border=\"1\" class=\"dataframe\">\n",
       "  <thead>\n",
       "    <tr style=\"text-align: right;\">\n",
       "      <th></th>\n",
       "      <th>Student_ID</th>\n",
       "      <th>Age</th>\n",
       "      <th>Gender</th>\n",
       "      <th>Hours_Studied</th>\n",
       "      <th>Attendance_Rate</th>\n",
       "      <th>Previous_Sem_CGPA</th>\n",
       "      <th>Family_Income</th>\n",
       "      <th>Part_Time_Job</th>\n",
       "      <th>Final_Score</th>\n",
       "    </tr>\n",
       "  </thead>\n",
       "  <tbody>\n",
       "    <tr>\n",
       "      <th>0</th>\n",
       "      <td>1</td>\n",
       "      <td>24</td>\n",
       "      <td>Female</td>\n",
       "      <td>3.6</td>\n",
       "      <td>55.1</td>\n",
       "      <td>7.58</td>\n",
       "      <td>67280</td>\n",
       "      <td>Yes</td>\n",
       "      <td>94.2</td>\n",
       "    </tr>\n",
       "    <tr>\n",
       "      <th>1</th>\n",
       "      <td>2</td>\n",
       "      <td>21</td>\n",
       "      <td>Female</td>\n",
       "      <td>6.2</td>\n",
       "      <td>83.2</td>\n",
       "      <td>6.61</td>\n",
       "      <td>99459</td>\n",
       "      <td>No</td>\n",
       "      <td>88.5</td>\n",
       "    </tr>\n",
       "    <tr>\n",
       "      <th>2</th>\n",
       "      <td>3</td>\n",
       "      <td>22</td>\n",
       "      <td>Male</td>\n",
       "      <td>2.2</td>\n",
       "      <td>50.3</td>\n",
       "      <td>8.98</td>\n",
       "      <td>36779</td>\n",
       "      <td>No</td>\n",
       "      <td>96.7</td>\n",
       "    </tr>\n",
       "    <tr>\n",
       "      <th>3</th>\n",
       "      <td>4</td>\n",
       "      <td>24</td>\n",
       "      <td>Female</td>\n",
       "      <td>1.1</td>\n",
       "      <td>58.0</td>\n",
       "      <td>6.35</td>\n",
       "      <td>83932</td>\n",
       "      <td>No</td>\n",
       "      <td>82.2</td>\n",
       "    </tr>\n",
       "    <tr>\n",
       "      <th>4</th>\n",
       "      <td>5</td>\n",
       "      <td>20</td>\n",
       "      <td>Male</td>\n",
       "      <td>2.7</td>\n",
       "      <td>77.4</td>\n",
       "      <td>7.19</td>\n",
       "      <td>92936</td>\n",
       "      <td>No</td>\n",
       "      <td>74.9</td>\n",
       "    </tr>\n",
       "  </tbody>\n",
       "</table>\n",
       "</div>"
      ],
      "text/plain": [
       "   Student_ID  Age  Gender  Hours_Studied  Attendance_Rate  Previous_Sem_CGPA  \\\n",
       "0           1   24  Female            3.6             55.1               7.58   \n",
       "1           2   21  Female            6.2             83.2               6.61   \n",
       "2           3   22    Male            2.2             50.3               8.98   \n",
       "3           4   24  Female            1.1             58.0               6.35   \n",
       "4           5   20    Male            2.7             77.4               7.19   \n",
       "\n",
       "   Family_Income Part_Time_Job  Final_Score  \n",
       "0          67280           Yes         94.2  \n",
       "1          99459            No         88.5  \n",
       "2          36779            No         96.7  \n",
       "3          83932            No         82.2  \n",
       "4          92936            No         74.9  "
      ]
     },
     "metadata": {},
     "output_type": "display_data"
    }
   ],
   "source": [
    "import os\n",
    "import pandas as pd\n",
    "\n",
    "csv_path = 'student_dataset.csv'\n",
    "if not os.path.exists(csv_path):\n",
    "    print(f\"File '{csv_path}' not found. Please check the file path and ensure the file is in the correct directory.\")\n",
    "else:\n",
    "    df = pd.read_csv(csv_path)\n",
    "    display(df.head())\n",
    "# Convert Part_Time_Job to numeric: Yes=1, No=0\n",
    "    df['Part_Time_Job'] = df['Part_Time_Job'].map({'Yes': 1, 'No': 0})"
   ]
  },
  {
   "cell_type": "markdown",
   "id": "2f8448bb",
   "metadata": {},
   "source": [
    "# 1. Regression: Predict Family Income"
   ]
  },
  {
   "cell_type": "markdown",
   "id": "9e1fb882",
   "metadata": {},
   "source": [
    "### Select features and target for regression"
   ]
  },
  {
   "cell_type": "code",
   "execution_count": 49,
   "id": "ddb94f5d",
   "metadata": {},
   "outputs": [],
   "source": [
    "features_reg = ['Age', 'Hours_Studied', 'Attendance_Rate', 'Part_Time_Job', 'Previous_Sem_CGPA']\n",
    "X_reg = df[features_reg]\n",
    "y_reg = df['Family_Income']"
   ]
  },
  {
   "cell_type": "markdown",
   "id": "156fdd99",
   "metadata": {},
   "source": [
    "### Split data for regression"
   ]
  },
  {
   "cell_type": "code",
   "execution_count": 50,
   "id": "25dacdd2",
   "metadata": {},
   "outputs": [],
   "source": [
    "Xr_train, Xr_test, yr_train, yr_test = train_test_split(X_reg, y_reg, test_size=0.2, random_state=42)"
   ]
  },
  {
   "cell_type": "markdown",
   "id": "ba0d05db",
   "metadata": {},
   "source": [
    "### Train Random Forest Regressor and predict"
   ]
  },
  {
   "cell_type": "code",
   "execution_count": 51,
   "id": "0408fa7d",
   "metadata": {},
   "outputs": [
    {
     "name": "stdout",
     "output_type": "stream",
     "text": [
      "R² Score: -0.2547586615474795\n"
     ]
    }
   ],
   "source": [
    "reg = RandomForestRegressor(random_state=42)\n",
    "reg.fit(Xr_train, yr_train)\n",
    "yr_pred = reg.predict(Xr_test)\n",
    "print('R² Score:', r2_score(yr_test, yr_pred))\n",
    "# print('RMSE:', mean_squared_error(yr_test, yr_pred, squared=False))"
   ]
  },
  {
   "cell_type": "markdown",
   "id": "3a07b072",
   "metadata": {},
   "source": [
    "# 2. Multi-Class Classification: Predict Grade (A, B, C, D)"
   ]
  },
  {
   "cell_type": "markdown",
   "id": "fe7997f7",
   "metadata": {},
   "source": [
    "### Create Grade column"
   ]
  },
  {
   "cell_type": "code",
   "execution_count": 52,
   "id": "a1d925f7",
   "metadata": {},
   "outputs": [
    {
     "data": {
      "text/plain": [
       "Grade\n",
       "A    28\n",
       "C    28\n",
       "D    26\n",
       "B    18\n",
       "Name: count, dtype: int64"
      ]
     },
     "execution_count": 52,
     "metadata": {},
     "output_type": "execute_result"
    }
   ],
   "source": [
    "def grade_from_score(score):\n",
    "    if score >= 85: return 'A'\n",
    "    elif score >= 70: return 'B'\n",
    "    elif score >= 50: return 'C'\n",
    "    else: return 'D'\n",
    "df['Grade'] = df['Final_Score'].apply(grade_from_score)\n",
    "df['Grade'].value_counts()"
   ]
  },
  {
   "cell_type": "markdown",
   "id": "fcad81a9",
   "metadata": {},
   "source": [
    "### Select features and target for classification"
   ]
  },
  {
   "cell_type": "code",
   "execution_count": 53,
   "id": "43e6e31b",
   "metadata": {},
   "outputs": [],
   "source": [
    "features_clf = ['Hours_Studied', 'Attendance_Rate', 'Previous_Sem_CGPA']\n",
    "X_clf = df[features_clf]\n",
    "y_clf = df['Grade']"
   ]
  },
  {
   "cell_type": "markdown",
   "id": "229fbb83",
   "metadata": {},
   "source": [
    "### Split data for classification"
   ]
  },
  {
   "cell_type": "code",
   "execution_count": 54,
   "id": "33bbdc0a",
   "metadata": {},
   "outputs": [],
   "source": [
    "Xc_train, Xc_test, yc_train, yc_test = train_test_split(X_clf, y_clf, test_size=0.2, random_state=42)"
   ]
  },
  {
   "cell_type": "markdown",
   "id": "6f1cb572",
   "metadata": {},
   "source": [
    "### Train Random Forest Classifier and predict"
   ]
  },
  {
   "cell_type": "code",
   "execution_count": 45,
   "id": "01a9aef8",
   "metadata": {},
   "outputs": [
    {
     "name": "stdout",
     "output_type": "stream",
     "text": [
      "Accuracy: 0.35\n",
      "              precision    recall  f1-score   support\n",
      "\n",
      "           A       0.50      0.60      0.55         5\n",
      "           B       0.33      0.33      0.33         3\n",
      "           C       0.40      0.29      0.33         7\n",
      "           D       0.17      0.20      0.18         5\n",
      "\n",
      "    accuracy                           0.35        20\n",
      "   macro avg       0.35      0.35      0.35        20\n",
      "weighted avg       0.36      0.35      0.35        20\n",
      "\n"
     ]
    }
   ],
   "source": [
    "clf = RandomForestClassifier(random_state=42)\n",
    "clf.fit(Xc_train, yc_train)\n",
    "yc_pred = clf.predict(Xc_test)\n",
    "print('Accuracy:', accuracy_score(yc_test, yc_pred))\n",
    "print(classification_report(yc_test, yc_pred))"
   ]
  },
  {
   "cell_type": "markdown",
   "id": "bc97e559",
   "metadata": {},
   "source": [
    "### Plot confusion matrix for grades"
   ]
  },
  {
   "cell_type": "code",
   "execution_count": 55,
   "id": "83c06d13",
   "metadata": {},
   "outputs": [
    {
     "data": {
      "image/png": "[encoded data removed]",
      "text/plain": [
       "<Figure size 480x480 with 2 Axes>"
      ]
     },
     "metadata": {},
     "output_type": "display_data"
    }
   ],
   "source": [
    "cm = confusion_matrix(yc_test, yc_pred, labels=['A','B','C','D'])\n",
    "plt.matshow(cm, cmap='Blues')\n",
    "plt.title('Confusion Matrix (Grades)')\n",
    "plt.xlabel('Predicted')\n",
    "plt.ylabel('Actual')\n",
    "plt.xticks(range(4), ['A','B','C','D'])\n",
    "plt.yticks(range(4), ['A','B','C','D'])\n",
    "plt.colorbar()\n",
    "plt.show()"
   ]
  }
 ],
 "metadata": {
  "kernelspec": {
   "display_name": ".venv",
   "language": "python",
   "name": "python3"
  },
  "language_info": {
   "codemirror_mode": {
    "name": "ipython",
    "version": 3
   },
   "file_extension": ".py",
   "mimetype": "text/x-python",
   "name": "python",
   "nbconvert_exporter": "python",
   "pygments_lexer": "ipython3",
   "version": "3.13.5"
  }
 },
 "nbformat": 4,
 "nbformat_minor": 5
}
