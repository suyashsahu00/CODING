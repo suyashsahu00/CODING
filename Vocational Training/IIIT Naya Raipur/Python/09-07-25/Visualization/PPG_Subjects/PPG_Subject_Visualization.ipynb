{
 "cells": [
  {
   "cell_type": "code",
   "execution_count": null,
   "id": "4656a542",
   "metadata": {},
   "outputs": [],
   "source": [
    "# Import required libraries\n",
    "import os\n",
    "import pandas as pd\n",
    "import plotly.express as px\n",
    "from sklearn.model_selection import train_test_split\n",
    "from sklearn.linear_model import LinearRegression\n",
    "from sklearn.tree import DecisionTreeRegressor\n",
    "from sklearn.ensemble import RandomForestRegressor\n",
    "from sklearn.neighbors import KNeighborsRegressor\n",
    "from sklearn.metrics import mean_absolute_error, mean_squared_error, r2_score\n",
    "import matplotlib.pyplot as plt\n",
    "import seaborn as sns\n",
    "import numpy as np"
   ]
  },
  {
   "cell_type": "code",
   "execution_count": null,
   "id": "78ae48b0",
   "metadata": {},
   "outputs": [],
   "source": [
    "# 1. Merge Data: Merge each subject's PPG data with HR and HRV from master_dataset.csv and save merged files\n",
    "ppg_folder = '.'\n",
    "master_path = '../master_dataset.csv'\n",
    "merged_folder = './merged_subjects'\n",
    "os.makedirs(merged_folder, exist_ok=True)\n",
    "master_df = pd.read_csv(master_path)\n",
    "subject_files = [f for f in os.listdir(ppg_folder) if f.startswith('subject_') and f.endswith('.csv')]\n",
    "for file in subject_files:\n",
    "    sub_df = pd.read_csv(os.path.join(ppg_folder, file))\n",
    "    sid = sub_df['Subject_ID'].iloc[0]\n",
    "    hr = master_df.loc[master_df['Subject_ID'] == sid, 'HR'].values[0]\n",
    "    hrv = master_df.loc[master_df['Subject_ID'] == sid, 'HRV'].values[0]\n",
    "    sub_df['HR'] = hr\n",
    "    sub_df['HRV'] = hrv\n",
    "    sub_df.to_csv(os.path.join(merged_folder, file), index=False)\n",
    "print(f'Merged {len(subject_files)} subject files and saved to {merged_folder}')"
   ]
  },
  {
   "cell_type": "code",
   "execution_count": null,
   "id": "22b59d3e",
   "metadata": {},
   "outputs": [],
   "source": [
    "# 2. Visualize Merged PPG Data: Plot interactive line chart for each subject\n",
    "for file in os.listdir(merged_folder):\n",
    "    if file.endswith('.csv'):\n",
    "        df = pd.read_csv(os.path.join(merged_folder, file))\n",
    "        fig = px.line(df, x='Time', y='PPG', title=f'Subject_ID: {df[\"Subject_ID\"].iloc[0]} - Time vs PPG')\n",
    "        fig.show()"
   ]
  },
  {
   "cell_type": "code",
   "execution_count": null,
   "id": "6fdef959",
   "metadata": {},
   "outputs": [],
   "source": [
    "# 3. Combine and Split Data: Combine all merged subject datasets and split into train/test sets\n",
    "merged_files = [os.path.join(merged_folder, f) for f in os.listdir(merged_folder) if f.endswith('.csv')]\n",
    "combined_df = pd.concat([pd.read_csv(f) for f in merged_files], ignore_index=True)\n",
    "train_df, test_df = train_test_split(combined_df, test_size=0.2, random_state=42)\n",
    "print('Combined shape:', combined_df.shape)\n",
    "print('Train shape:', train_df.shape)\n",
    "print('Test shape:', test_df.shape)"
   ]
  },
  {
   "cell_type": "code",
   "execution_count": null,
   "id": "16f179e7",
   "metadata": {},
   "outputs": [],
   "source": [
    "# 4. Build and Evaluate Models: 4 regression models to predict HR, plot error metrics and visualizations\n",
    "features = ['PPG', 'HRV', 'Time']\n",
    "target = 'HR'\n",
    "X_train = train_df[features]\n",
    "y_train = train_df[target]\n",
    "X_test = test_df[features]\n",
    "y_test = test_df[target]\n",
    "models = {\n",
    "    'Linear Regression': LinearRegression(),\n",
    "    'Decision Tree': DecisionTreeRegressor(random_state=42),\n",
    "    'Random Forest': RandomForestRegressor(random_state=42),\n",
    "    'KNN': KNeighborsRegressor()\n",
    "}\n",
    "results = {}\n",
    "for name, model in models.items():\n",
    "    model.fit(X_train, y_train)\n",
    "    y_pred = model.predict(X_test)\n",
    "    mae = mean_absolute_error(y_test, y_pred)\n",
    "    mse = mean_squared_error(y_test, y_pred)\n",
    "    rmse = np.sqrt(mse)\n",
    "    r2 = r2_score(y_test, y_pred)\n",
    "    results[name] = {'MAE': mae, 'MSE': mse, 'RMSE': rmse, 'R2': r2, 'y_pred': y_pred}\n",
    "    # Actual vs Predicted plot\n",
    "    plt.figure(figsize=(5,3))\n",
    "    plt.scatter(y_test, y_pred, alpha=0.5)\n",
    "    plt.xlabel('Actual HR')\n",
    "    plt.ylabel('Predicted HR')\n",
    "    plt.title(f'Actual vs Predicted HR - {name}')\n",
    "    plt.plot([y_test.min(), y_test.max()], [y_test.min(), y_test.max()], 'r--')\n",
    "    plt.show()\n",
    "    # Residuals plot\n",
    "    residuals = y_test - y_pred\n",
    "    plt.figure(figsize=(5,3))\n",
    "    plt.scatter(y_pred, residuals, alpha=0.5)\n",
    "    plt.axhline(0, color='r', linestyle='--')\n",
    "    plt.xlabel('Predicted HR')\n",
    "    plt.ylabel('Residuals')\n",
    "    plt.title(f'Residuals Plot - {name}')\n",
    "    plt.show()\n",
    "# Model comparison bar chart for error metrics\n",
    "metrics = ['MAE', 'MSE', 'RMSE', 'R2']\n",
    "metrics_df = pd.DataFrame({m: [results[model][m] for model in models] for m in metrics}, index=models.keys())\n",
    "metrics_df[metrics[:-1]].plot(kind='bar', figsize=(8,5))\n",
    "plt.title('Model Comparison - Error Metrics')\n",
    "plt.ylabel('Error')\n",
    "plt.show()\n",
    "metrics_df['R2'].plot(kind='bar', figsize=(8,5), color='orange')\n",
    "plt.title('Model Comparison - R2 Score')\n",
    "plt.ylabel('R2 Score')\n",
    "plt.show()"
   ]
  }
 ],
 "metadata": {
  "kernelspec": {
   "display_name": ".venv",
   "language": "python",
   "name": "python3"
  },
  "language_info": {
   "codemirror_mode": {
    "name": "ipython",
    "version": 3
   },
   "file_extension": ".py",
   "mimetype": "text/x-python",
   "name": "python",
   "nbconvert_exporter": "python",
   "pygments_lexer": "ipython3",
   "version": "3.13.5"
  }
 },
 "nbformat": 4,
 "nbformat_minor": 5
}
