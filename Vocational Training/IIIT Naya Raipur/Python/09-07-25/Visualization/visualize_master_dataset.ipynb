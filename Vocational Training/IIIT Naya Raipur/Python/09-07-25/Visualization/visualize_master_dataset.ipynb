{
 "cells": [
  {
   "cell_type": "markdown",
   "id": "14d1ee3f",
   "metadata": {},
   "source": [
    "# Visualize All Columns in master_dataset.csv\n",
    "This notebook loads the dataset and visualizes all columns using various plots."
   ]
  },
  {
   "cell_type": "code",
   "execution_count": null,
   "id": "58d68a22",
   "metadata": {},
   "outputs": [],
   "source": [
    "# Import libraries and load the dataset\n",
    "import pandas as pd\n",
    "import matplotlib.pyplot as plt\n",
    "import seaborn as sns\n",
    "\n",
    "# Load the dataset\n",
    "file_path = 'master_dataset.csv'\n",
    "df = pd.read_csv(file_path)\n",
    "df.head()"
   ]
  },
  {
   "cell_type": "code",
   "execution_count": null,
   "id": "1d20b8a2",
   "metadata": {},
   "outputs": [],
   "source": [
    "# Visualize all numeric columns with histograms\n",
    "numeric_cols = df.select_dtypes(include=['number']).columns\n",
    "plt.figure(figsize=(15, 10))\n",
    "df[numeric_cols].hist(bins=15, figsize=(15, 10), layout=(2, 3))\n",
    "plt.tight_layout()\n",
    "plt.show()\n",
    "\n",
    "# Pairplot for all numeric columns\n",
    "sns.pairplot(df[numeric_cols])\n",
    "plt.show()"
   ]
  },
  {
   "cell_type": "code",
   "execution_count": null,
   "id": "5a995f00",
   "metadata": {},
   "outputs": [],
   "source": [
    "# Visualize categorical columns with countplots\n",
    "categorical_cols = df.select_dtypes(include=['object']).columns\n",
    "for col in categorical_cols:\n",
    "    plt.figure(figsize=(6, 4))\n",
    "    sns.countplot(x=col, data=df)\n",
    "    plt.title(f'Countplot of {col}')\n",
    "    plt.show()"
   ]
  },
  {
   "cell_type": "code",
   "execution_count": null,
   "id": "1d22ad4c",
   "metadata": {},
   "outputs": [],
   "source": [
    "# Correlation heatmap for all numeric columns\n",
    "plt.figure(figsize=(10, 6))\n",
    "sns.heatmap(df[numeric_cols].corr(), annot=True, cmap='coolwarm', fmt='.2f')\n",
    "plt.title('Correlation Heatmap')\n",
    "plt.show()"
   ]
  }
 ],
 "metadata": {
  "language_info": {
   "name": "python"
  }
 },
 "nbformat": 4,
 "nbformat_minor": 5
}
