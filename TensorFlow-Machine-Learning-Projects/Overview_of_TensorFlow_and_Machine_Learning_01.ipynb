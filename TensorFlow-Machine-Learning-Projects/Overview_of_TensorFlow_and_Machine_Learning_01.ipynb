{
 "cells": [
  {
   "cell_type": "markdown",
   "id": "c18df46e",
   "metadata": {},
   "source": [
    "# TensorFlow 101"
   ]
  },
  {
   "cell_type": "code",
   "execution_count": 1,
   "id": "6218180d",
   "metadata": {},
   "outputs": [
    {
     "name": "stdout",
     "output_type": "stream",
     "text": [
      "TensorFlow version: 2.19.0\n",
      "Numpy version: 2.1.3\n",
      "Python version: 3.11.9 (tags/v3.11.9:de54cf5, Apr  2 2024, 10:12:12) [MSC v.1938 64 bit (AMD64)]\n"
     ]
    }
   ],
   "source": [
    "import tensorflow as tf\n",
    "print(\"TensorFlow version:\", tf.__version__)\n",
    "\n",
    "import numpy as np\n",
    "print(\"Numpy version:\",np.__version__)\n",
    "\n",
    "import sys\n",
    "print(\"Python version:\", sys.version)"
   ]
  },
  {
   "cell_type": "markdown",
   "id": "3d5c50c6",
   "metadata": {},
   "source": [
    "# Get a TensorFLow Sesson\n",
    "# Working on TensorFlow 2.x"
   ]
  },
  {
   "cell_type": "code",
   "execution_count": 4,
   "id": "e1e56877",
   "metadata": {},
   "outputs": [
    {
     "name": "stdout",
     "output_type": "stream",
     "text": [
      "b'Hello, TensorFlow Projects!'\n"
     ]
    }
   ],
   "source": [
    "import tensorflow as tf\n",
    "\n",
    "hello = tf.constant(\"Hello, TensorFlow Projects!\")\n",
    "print(hello.numpy())  \n"
   ]
  },
  {
   "cell_type": "markdown",
   "id": "c8e9d237",
   "metadata": {},
   "source": [
    "# Constants"
   ]
  },
  {
   "cell_type": "code",
   "execution_count": 11,
   "id": "c208bbd6",
   "metadata": {},
   "outputs": [
    {
     "name": "stdout",
     "output_type": "stream",
     "text": [
      "const1 (x):  34\n",
      "const2 (y):  59.0\n",
      "cosnt3 (z):  32.0\n"
     ]
    }
   ],
   "source": [
    "const1 = tf.constant(34, name='x')\n",
    "const2 = tf.constant(59.0, name='y')\n",
    "const3 = tf.constant(32.0, dtype=tf.float32,name='z')\n",
    "print('const1 (x): ', const1.numpy())\n",
    "print('const2 (y): ', const2.numpy())\n",
    "print('cosnt3 (z): ',const3.numpy())"
   ]
  },
  {
   "cell_type": "markdown",
   "id": "92affce9",
   "metadata": {},
   "source": [
    "# Operatins"
   ]
  },
  {
   "cell_type": "code",
   "execution_count": 15,
   "id": "4a4904ae",
   "metadata": {},
   "outputs": [
    {
     "name": "stdout",
     "output_type": "stream",
     "text": [
      "op1 :  tf.Tensor(91.0, shape=(), dtype=float32)\n",
      "op :  tf.Tensor(1888.0, shape=(), dtype=float32)\n"
     ]
    }
   ],
   "source": [
    "op1 =tf.add(const2,const3)\n",
    "op2 = tf.multiply(const2,const3)\n",
    "print('op1 : ',op1)\n",
    "print('op : ',op2)"
   ]
  },
  {
   "cell_type": "code",
   "execution_count": 17,
   "id": "e95e6362",
   "metadata": {},
   "outputs": [
    {
     "name": "stdout",
     "output_type": "stream",
     "text": [
      "op1: 91.0\n",
      "op2: 1888.0\n"
     ]
    }
   ],
   "source": [
    "print('op1:', op1.numpy())\n",
    "print('op2:', op2.numpy())\n"
   ]
  },
  {
   "cell_type": "markdown",
   "id": "1ed3930f",
   "metadata": {},
   "source": [
    "# Placeholders"
   ]
  },
  {
   "cell_type": "code",
   "execution_count": 20,
   "id": "b364ff9e",
   "metadata": {},
   "outputs": [
    {
     "name": "stdout",
     "output_type": "stream",
     "text": [
      "p1 + p2 = 107.2\n"
     ]
    }
   ],
   "source": [
    "p1 = tf.constant(float(input(\"Enter first value: \")))\n",
    "p2 = tf.constant(float(input(\"Enter second value: \")))\n",
    "print('p1 + p2 =', (p1 + p2).numpy())\n"
   ]
  },
  {
   "cell_type": "code",
   "execution_count": 22,
   "id": "5963bb11",
   "metadata": {},
   "outputs": [
    {
     "name": "stdout",
     "output_type": "stream",
     "text": [
      "Result: 300.3\n"
     ]
    }
   ],
   "source": [
    "import tensorflow as tf\n",
    "\n",
    "def multiply_inputs(a, b):\n",
    "    return tf.multiply(a, b)\n",
    "\n",
    "# Simulate user input\n",
    "p1 = tf.constant(15.4, dtype=tf.float32)\n",
    "p2 = tf.constant(19.5, dtype=tf.float32)\n",
    "\n",
    "mult_op = multiply_inputs(p1, p2)\n",
    "print('Result:', mult_op.numpy())\n"
   ]
  }
 ],
 "metadata": {
  "kernelspec": {
   "display_name": "Python 3",
   "language": "python",
   "name": "python3"
  },
  "language_info": {
   "codemirror_mode": {
    "name": "ipython",
    "version": 3
   },
   "file_extension": ".py",
   "mimetype": "text/x-python",
   "name": "python",
   "nbconvert_exporter": "python",
   "pygments_lexer": "ipython3",
   "version": "3.11.9"
  }
 },
 "nbformat": 4,
 "nbformat_minor": 5
}
